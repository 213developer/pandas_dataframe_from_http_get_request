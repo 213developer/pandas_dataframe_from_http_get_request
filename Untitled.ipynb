{
 "cells": [
  {
   "cell_type": "code",
   "execution_count": 2,
   "id": "b6b1ee5e-0d70-4c40-9ca1-22b4fc305645",
   "metadata": {},
   "outputs": [],
   "source": [
    "#There are many cases where the data we are working with is provided via an API\n",
    "#We will leverage the requests library to enable this capability\n",
    "import pandas as pd\n",
    "import requests"
   ]
  },
  {
   "cell_type": "code",
   "execution_count": 30,
   "id": "e10d6814-618e-4109-8e05-70af6a46c7ce",
   "metadata": {},
   "outputs": [
    {
     "name": "stdout",
     "output_type": "stream",
     "text": [
      "My public IP address is: 149.248.14.233\n"
     ]
    }
   ],
   "source": [
    "# Here we will enter the URL for the API endpoint\n",
    "url = \"https://api.ipify.org?format=json\"\n",
    "\n",
    "# Here we will make the GET request\n",
    "response = requests.get(url)\n",
    "\n",
    "# Next we will check if the request was successful\n",
    "if response.status_code == 200:\n",
    "    # Parse JSON response into a Python dictionary\n",
    "    data = response.json()\n",
    "    print(f\"My public IP address is: {data['ip']}\")\n",
    "else:\n",
    "    print(f\"Failed to fetch data: {response.status_code}\")"
   ]
  },
  {
   "cell_type": "code",
   "execution_count": 42,
   "id": "d2607768-daa5-4df1-be96-c153b7a3f8cc",
   "metadata": {},
   "outputs": [],
   "source": [
    "# df = pd.DataFrame(data)"
   ]
  },
  {
   "cell_type": "code",
   "execution_count": 38,
   "id": "1d329fec-40d8-4bc5-8f8d-b4745cd36ddf",
   "metadata": {},
   "outputs": [],
   "source": [
    "# print(df)"
   ]
  },
  {
   "cell_type": "code",
   "execution_count": null,
   "id": "71ace398-bc8c-46ef-b598-83df58e9e523",
   "metadata": {},
   "outputs": [],
   "source": []
  }
 ],
 "metadata": {
  "kernelspec": {
   "display_name": "Python 3 (ipykernel)",
   "language": "python",
   "name": "python3"
  },
  "language_info": {
   "codemirror_mode": {
    "name": "ipython",
    "version": 3
   },
   "file_extension": ".py",
   "mimetype": "text/x-python",
   "name": "python",
   "nbconvert_exporter": "python",
   "pygments_lexer": "ipython3",
   "version": "3.12.2"
  }
 },
 "nbformat": 4,
 "nbformat_minor": 5
}
